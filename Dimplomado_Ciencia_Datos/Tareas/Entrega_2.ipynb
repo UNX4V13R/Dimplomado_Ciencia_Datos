{
  "nbformat": 4,
  "nbformat_minor": 0,
  "metadata": {
    "colab": {
      "provenance": []
    },
    "kernelspec": {
      "name": "python3",
      "display_name": "Python 3"
    },
    "language_info": {
      "name": "python"
    }
  },
  "cells": [
    {
      "cell_type": "markdown",
      "source": [
        "#Segunda Entrega"
      ],
      "metadata": {
        "id": "tQaR6q7CaYjl"
      }
    },
    {
      "cell_type": "markdown",
      "source": [
        "1. Escriba una función  que reciba la fecha de nacimiento de una persona y calcule la edad de la persona"
      ],
      "metadata": {
        "id": "t4eMjR_vZCu_"
      }
    },
    {
      "cell_type": "code",
      "source": [
        "from datetime import datetime\n",
        "fecha_nacimiento = input(\"Ingresa tu fecha de nacimiento (dd/mm/aaaa): \")\n",
        "fecha_nacimiento = datetime.strptime(fecha_nacimiento, \"%d/%m/%Y\")\n",
        "edad = datetime.today() - fecha_nacimiento\n",
        "print(\"Tu edad es:\", int(edad.days/365))"
      ],
      "metadata": {
        "id": "7S9Xi1ER8oon",
        "colab": {
          "base_uri": "https://localhost:8080/"
        },
        "outputId": "3fcb3a09-deea-4efd-b17c-f06047f4844e"
      },
      "execution_count": 1,
      "outputs": [
        {
          "output_type": "stream",
          "name": "stdout",
          "text": [
            "Ingresa tu fecha de nacimiento (dd/mm/aaaa): 05/05/2005\n",
            "Tu edad es: 18\n"
          ]
        }
      ]
    },
    {
      "cell_type": "markdown",
      "source": [
        "2. Crea una función EscribirCentrado, que reciba como parámetro un texto y lo escriba centrado en pantalla (suponiendo una anchura de 80 columnas; pista: deberás escribir 40 - longitud/2 espacios antes del texto).  "
      ],
      "metadata": {
        "id": "mK_IUNygZMhi"
      }
    },
    {
      "cell_type": "code",
      "source": [
        "def EscribirCentrado(texto):\n",
        "    ancho_pantalla = 80\n",
        "    longitud_texto = len(texto)\n",
        "    espacios_antes = (ancho_pantalla - longitud_texto) // 2\n",
        "    print(\" \" * espacios_antes + texto)\n",
        "\n",
        "texto1 = \"Este es un texto de prueba\"\n",
        "texto2 = \"abcdefghijklmnopqr20abcdefghijklmnopqr40abcdefghijklmnopqr60abcdefghijklmnopqr80\"\n",
        "texto3 = \"abcdefghijklmnopqr20abcdefghijklmnopqr40abcdefghijklmnopqr60abcdefghijklmnopqr8012324567890\"\n",
        "texto4 = input()\n",
        "\n",
        "EscribirCentrado(texto1)\n",
        "EscribirCentrado(texto2)\n",
        "EscribirCentrado(texto3)\n",
        "EscribirCentrado(texto4)"
      ],
      "metadata": {
        "colab": {
          "base_uri": "https://localhost:8080/"
        },
        "id": "3-juVZmodezO",
        "outputId": "55387ad2-a139-4e5d-a220-53138b3cebe5"
      },
      "execution_count": 7,
      "outputs": [
        {
          "output_type": "stream",
          "name": "stdout",
          "text": [
            "Prueba\n",
            "                           Este es un texto de prueba\n",
            "abcdefghijklmnopqr20abcdefghijklmnopqr40abcdefghijklmnopqr60abcdefghijklmnopqr80\n",
            "abcdefghijklmnopqr20abcdefghijklmnopqr40abcdefghijklmnopqr60abcdefghijklmnopqr8012324567890\n",
            "                                     Prueba\n"
          ]
        }
      ]
    },
    {
      "cell_type": "markdown",
      "source": [
        "3.) Construya una función decorada que reciba un texto y lo escriba marcado con Markdown en itálica y resaltada (bold). Revise la lección de decoradores, no vista en clase."
      ],
      "metadata": {
        "id": "BU6OMgLdZVKj"
      }
    },
    {
      "cell_type": "code",
      "source": [
        "def decorador_markdown(funcion):\n",
        "    def wrapper(texto):\n",
        "        texto_formateado = f\"{texto}\"\n",
        "        return funcion(texto_formateado)\n",
        "    return wrapper\n",
        "\n",
        "@decorador_markdown\n",
        "def escribir_markdown(texto):\n",
        "    print(texto)\n",
        "\n",
        "texto = input()\n",
        "escribir_markdown(texto)"
      ],
      "metadata": {
        "colab": {
          "base_uri": "https://localhost:8080/"
        },
        "id": "l5k8l62keScf",
        "outputId": "32c02c82-65c7-4a57-8615-559894b8c84c"
      },
      "execution_count": 8,
      "outputs": [
        {
          "output_type": "stream",
          "name": "stdout",
          "text": [
            "Este es un texto de prueba\n",
            "Este es un texto de prueba\n"
          ]
        }
      ]
    },
    {
      "cell_type": "markdown",
      "source": [
        "4.  Crea un programa que pida dos números enteros al usuario y diga si alguno de ellos es múltiplo del otro."
      ],
      "metadata": {
        "id": "uj3Msv5MZ6WN"
      }
    },
    {
      "cell_type": "code",
      "source": [
        "numero1 = int(input(\"Ingrese el primer número: \"))\n",
        "numero2 = int(input(\"Ingrese el segundo número: \"))\n",
        "\n",
        "if numero1 % numero2 == 0:\n",
        "    print(f\"El numero {numero1} es múltiplo de {numero2}\")\n",
        "elif numero2 % numero1 == 0:\n",
        "    print(f\"El numero {numero2} es múltiplo de {numero1}\")\n",
        "else:\n",
        "    print(\"Los números no son múltiplos entre sí\")"
      ],
      "metadata": {
        "id": "at4HpyfKfO9s",
        "colab": {
          "base_uri": "https://localhost:8080/"
        },
        "outputId": "74002794-c619-407c-d5ae-681570d0a726"
      },
      "execution_count": 3,
      "outputs": [
        {
          "output_type": "stream",
          "name": "stdout",
          "text": [
            "Ingrese el primer número: 55\n",
            "Ingrese el segundo número: 5\n",
            "El numero 55 es múltiplo de 5\n"
          ]
        }
      ]
    },
    {
      "cell_type": "markdown",
      "source": [
        "5. Crear una función que reciba una lista  de 24 valores de temperatura leída hora en un día y que calcule la temperatura media. Cree una lista con 24 valores de temperatura de un día de Bogotá y pruebe su función. Invente los datos."
      ],
      "metadata": {
        "id": "kQWLmIeJZ_tv"
      }
    },
    {
      "cell_type": "code",
      "source": [
        "def calcular_temperatura_media(temperaturas):\n",
        "    suma_temperaturas = sum(temperaturas)\n",
        "    temperatura_media = suma_temperaturas / len(temperaturas)\n",
        "    return temperatura_media\n",
        "\n",
        "temperaturas_bogota = [20, 18, 18, 19, 19, 17, 19, 18, 18, 19, 19, 19, 19, 20, 19, 19, 17, 18, 19, 19, 18, 17, 19, 18]\n",
        "###Temperaturas maximas estimadas de Abril 2023 en Bogotá (https://www.tiempo3.com/)\n",
        "temperatura_media_bogota = round(calcular_temperatura_media(temperaturas_bogota),2)\n",
        "\n",
        "print(f\"La temperatura media en Bogotá fue de {temperatura_media_bogota} grados Celsius.\")\n"
      ],
      "metadata": {
        "id": "39zZkL5SgS7g",
        "colab": {
          "base_uri": "https://localhost:8080/"
        },
        "outputId": "3e846d92-2835-4e30-fd75-71917404f9c5"
      },
      "execution_count": null,
      "outputs": [
        {
          "output_type": "stream",
          "name": "stdout",
          "text": [
            "La temperatura media en Bogotá fue de 18.54 grados Celsius.\n"
          ]
        }
      ]
    },
    {
      "cell_type": "markdown",
      "source": [
        "5. Crea un función “ConvertirEspaciado”, que reciba como parámetro un texto y devuelve una cadena con un espacio adicional tras cada letra. Por ejemplo, “Hola, tú” devolverá “H o l a , t ú “.  Pruebe"
      ],
      "metadata": {
        "id": "wrCZdOVmbq5M"
      }
    },
    {
      "cell_type": "code",
      "source": [
        "def convertir_espaciado(texto):\n",
        "    espaciado = \" \"\n",
        "    texto_espaciado = espaciado.join(texto)\n",
        "    return texto_espaciado\n",
        "\n",
        "texto = input(\"Ingrese el texto: \")\n",
        "texto_espaciado = convertir_espaciado(texto)\n",
        "\n",
        "print(texto_espaciado)"
      ],
      "metadata": {
        "id": "kQJL-8CahDrV",
        "colab": {
          "base_uri": "https://localhost:8080/"
        },
        "outputId": "cc962221-f6cf-4604-b6f8-6aa33a9e691e"
      },
      "execution_count": 9,
      "outputs": [
        {
          "output_type": "stream",
          "name": "stdout",
          "text": [
            "Este es un texto de prueba\n",
            "E s t e   e s   u n   t e x t o   d e   p r u e b a\n"
          ]
        }
      ]
    },
    {
      "cell_type": "markdown",
      "source": [
        "6. Crea una función “calcularMaxMin” que recibe un arreglo con valores numérico y devuelve el valor máximo y el mínimo."
      ],
      "metadata": {
        "id": "XaA2N5aBbyuc"
      }
    },
    {
      "cell_type": "code",
      "source": [
        "def calcularMaxMin(valores):\n",
        "    maximo = max(valores)\n",
        "    minimo = min(valores)\n",
        "    return maximo, minimo\n",
        "\n",
        "valores = [7, 5, 3, 1, 8, 6, 4, 2]\n",
        "\n",
        "maximo, minimo = calcularMaxMin(valores)\n",
        "\n",
        "print(f\"De la lista el valor máximo es {maximo} y el valor mínimo es {minimo}.\")"
      ],
      "metadata": {
        "id": "fQQMXqO-hCXR",
        "colab": {
          "base_uri": "https://localhost:8080/"
        },
        "outputId": "6de442e5-f2cd-4fb7-a23a-aaaa82db8ec9"
      },
      "execution_count": 12,
      "outputs": [
        {
          "output_type": "stream",
          "name": "stdout",
          "text": [
            "De la lista el valor máximo es 8 y el valor mínimo es 1.\n"
          ]
        }
      ]
    },
    {
      "cell_type": "markdown",
      "source": [
        "7.  Diseñar una función que calcule el área y el perímetro de una circunferencia."
      ],
      "metadata": {
        "id": "9rEpLobqb4px"
      }
    },
    {
      "cell_type": "code",
      "source": [
        "import math\n",
        "\n",
        "def calcular_area_perimetro_circunferencia(radio):\n",
        "    area = math.pi * radio**2\n",
        "    perimetro = 2 * math.pi * radio\n",
        "    return area, perimetro\n",
        "\n",
        "radio = int(input(\"Ingrese el radio de la circunferencia: \"))\n",
        "\n",
        "area, perimetro = calcular_area_perimetro_circunferencia(radio)\n",
        "\n",
        "print(f\"El área de la circunferencia es {area:.2f} y su perímetro es {perimetro:.2f}.\")"
      ],
      "metadata": {
        "id": "7OboJ6bAiO-O",
        "colab": {
          "base_uri": "https://localhost:8080/"
        },
        "outputId": "7f66ef41-a9b5-4063-9e53-250e8a2bfb1d"
      },
      "execution_count": 14,
      "outputs": [
        {
          "output_type": "stream",
          "name": "stdout",
          "text": [
            "Ingrese el radio de la circunferencia: 5\n",
            "El área de la circunferencia es 78.54 y su perímetro es 31.42.\n"
          ]
        }
      ]
    },
    {
      "cell_type": "markdown",
      "source": [
        "8. Crear una función  llamada “Login”, que recibe un nombre de usuario y una contraseña y devuelva Verdadero si el nombre de usuario es “usuario1” y la contraseña es “asdasd”. Además recibe el número de intentos que se ha intentado hacer login y si no se ha podido hacer login incremente este valor."
      ],
      "metadata": {
        "id": "iE9UoiSbb8eD"
      }
    },
    {
      "cell_type": "code",
      "source": [
        "def Login(usuario, contraseña, intentos):\n",
        "    if usuario == \"usuario1\" and contraseña == \"asdasd\":\n",
        "        return True, intentos\n",
        "    else:\n",
        "        intentos += 1\n",
        "        return False, intentos\n",
        "\n",
        "intentos = 0\n",
        "\n",
        "while True:\n",
        "    usuario = input(\"Introduce el nombre de usuario: \")\n",
        "    contraseña = input(\"Introduce la contraseña: \")\n",
        "    acceso, intentos = Login(usuario, contraseña, intentos)\n",
        "    \n",
        "    if acceso:\n",
        "        print(\"¡Acceso concedido!\")\n",
        "        print(f\"Han realizado {intentos} intentos fallidos antes de ingresar\")\n",
        "        break\n",
        "    else:\n",
        "        print(\"Usuoario y/o contraseña equivocado. Inténtalo de nuevo.\")\n"
      ],
      "metadata": {
        "id": "EmTB755Iiv3D",
        "colab": {
          "base_uri": "https://localhost:8080/"
        },
        "outputId": "6a234914-e8eb-465c-e96c-c5a52e83dc5b"
      },
      "execution_count": null,
      "outputs": [
        {
          "output_type": "stream",
          "name": "stdout",
          "text": [
            "Introduce tu nombre de usuario: us\n",
            "Introduce tu contraseña: us\n",
            "Credenciales incorrectas. Inténtalo de nuevo.\n",
            "Introduce tu nombre de usuario: us\n",
            "Introduce tu contraseña: asdasd\n",
            "Credenciales incorrectas. Inténtalo de nuevo.\n",
            "Introduce tu nombre de usuario: usuario1\n",
            "Introduce tu contraseña: asdfgh\n",
            "Credenciales incorrectas. Inténtalo de nuevo.\n",
            "Introduce tu nombre de usuario: usuario1\n",
            "Introduce tu contraseña: asdasd\n",
            "¡Acceso concedido!\n",
            "Han realizado 3 intentos fallidos antes de ingresar\n"
          ]
        }
      ]
    },
    {
      "cell_type": "markdown",
      "source": [
        "9. Crear una función recursiva que permita calcular el factorial de un número. Realiza un programa principal donde se lea un entero y se muestre el resultado del factorial. Revise la lección de funciones."
      ],
      "metadata": {
        "id": "mTkE3OFOb_Hr"
      }
    },
    {
      "cell_type": "code",
      "source": [
        "def factorial(n):\n",
        "    if n == 0:\n",
        "        return 1\n",
        "    else:\n",
        "        return n * factorial(n-1)\n",
        "\n",
        "numero = int(input(\"Introduce el número entero: \"))\n",
        "resultado = factorial(numero)\n",
        "print(\"El factorial de\", numero, \"es\", resultado)"
      ],
      "metadata": {
        "id": "0Q4HWO10jQZH",
        "colab": {
          "base_uri": "https://localhost:8080/"
        },
        "outputId": "c22d5d3d-37f6-44a4-df40-bbfe7c4faa7b"
      },
      "execution_count": 15,
      "outputs": [
        {
          "output_type": "stream",
          "name": "stdout",
          "text": [
            "Introduce el número entero: 5\n",
            "El factorial de 5 es 120\n"
          ]
        }
      ]
    },
    {
      "cell_type": "markdown",
      "source": [
        "10. Escribir dos funciones que permitan calcular:\n",
        "La cantidad de segundos en un tiempo dado en horas, minutos y segundos.\n",
        "La cantidad de horas, minutos y segundos de un tiempo dado en segundos."
      ],
      "metadata": {
        "id": "iH_vfOL8cBq6"
      }
    },
    {
      "cell_type": "code",
      "source": [
        "def segundos_totales(horas, minutos, segundos):\n",
        "    return horas*3600 + minutos*60 + segundos\n",
        "\n",
        "def tiempo_desde_segundos(segundos_totales):\n",
        "    horas = segundos_totales // 3600\n",
        "    segundos_restantes = segundos_totales % 3600\n",
        "    minutos = segundos_restantes // 60\n",
        "    segundos = segundos_restantes % 60\n",
        "    return horas, minutos, segundos\n",
        "\n",
        "# Calcular la cantidad de segundos en 2 horas, 30 minutos y 45 segundos\n",
        "segundos = segundos_totales(3, 25, 45)\n",
        "print(segundos)  # Imprime: 9045\n",
        "\n",
        "# Convertir 12345 segundos a horas, minutos y segundos\n",
        "horas, minutos, segundos = tiempo_desde_segundos(12345)\n",
        "print(horas, minutos, segundos)  # Imprime: 2 30 45\n",
        "\n"
      ],
      "metadata": {
        "id": "BPLm7vHWjkX3",
        "colab": {
          "base_uri": "https://localhost:8080/"
        },
        "outputId": "3f0ef851-0c0d-4a50-91ba-f6f479f99e59"
      },
      "execution_count": null,
      "outputs": [
        {
          "output_type": "stream",
          "name": "stdout",
          "text": [
            "12345\n",
            "3 25 45\n"
          ]
        }
      ]
    },
    {
      "cell_type": "markdown",
      "source": [
        "11. Crea una función  que lea una tupla, invierta los valores de la tupla y regrese una nueva tupla invirtiendo los valores. Recuerde que las tuplas son inmutables."
      ],
      "metadata": {
        "id": "DPf34nxWcE3V"
      }
    },
    {
      "cell_type": "code",
      "source": [
        "def invertir_tupla(tupla):\n",
        "    # Invierte los valores de la tupla\n",
        "    tupla_invertida = tuple(reversed(tupla))\n",
        "    return tupla_invertida\n",
        "\n",
        "# Ejemplo de uso\n",
        "mi_tupla = (1, 2, 3, 4, 5)\n",
        "tupla_invertida = invertir_tupla(mi_tupla)\n",
        "print(tupla_invertida) # Output: (5, 4, 3, 2, 1)\n"
      ],
      "metadata": {
        "id": "xShYIy-Jk8JU",
        "colab": {
          "base_uri": "https://localhost:8080/"
        },
        "outputId": "5bcb9df6-822b-47b1-86a2-0bc6df030ee2"
      },
      "execution_count": null,
      "outputs": [
        {
          "output_type": "stream",
          "name": "stdout",
          "text": [
            "(5, 4, 3, 2, 1)\n"
          ]
        }
      ]
    },
    {
      "cell_type": "markdown",
      "source": [
        "12. Escriba una función que lea una lista y calcule la media geométrica de sus valores, usando funtools.reduce.:"
      ],
      "metadata": {
        "id": "PoQJwp1kcHOh"
      }
    },
    {
      "cell_type": "code",
      "source": [
        "import functools\n",
        "\n",
        "def media_geometrica(lista):\n",
        "    # Multiplica todos los elementos de la lista\n",
        "    producto = functools.reduce(lambda x, y: x * y, lista)\n",
        "    # Calcula la raíz n-ésima del producto, donde n es la longitud de la lista\n",
        "    media_geo = producto ** (1/len(lista))\n",
        "    return media_geo\n",
        "\n",
        "lista = [32, 2, 4, 8, 16]\n",
        "media_geo = media_geometrica(lista)\n",
        "print(round(media_geo))"
      ],
      "metadata": {
        "id": "Zt1KURMzlVTd",
        "colab": {
          "base_uri": "https://localhost:8080/"
        },
        "outputId": "edccb45c-b20b-4270-8345-5010f88b5453"
      },
      "execution_count": 16,
      "outputs": [
        {
          "output_type": "stream",
          "name": "stdout",
          "text": [
            "8\n"
          ]
        }
      ]
    }
  ]
}